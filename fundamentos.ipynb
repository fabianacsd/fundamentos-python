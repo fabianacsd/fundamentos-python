{
 "cells": [
  {
   "cell_type": "code",
   "execution_count": 23,
   "metadata": {},
   "outputs": [
    {
     "name": "stdout",
     "output_type": "stream",
     "text": [
      "mano tengo fe!\n"
     ]
    }
   ],
   "source": [
    "print(\"mano tengo fe!\")"
   ]
  },
  {
   "cell_type": "markdown",
   "metadata": {},
   "source": [
    "###clases de python\n",
    "\n",
    "*variables\n",
    "*operadores matematicos\n",
    "*operadores de comparacion\n",
    "*operadores logicos\n",
    "*condicionales\n",
    "\n",
    "#variable \n"
   ]
  },
  {
   "cell_type": "code",
   "execution_count": 24,
   "metadata": {},
   "outputs": [],
   "source": [
    "#comentari\n",
    "\n",
    "name=\"daysi\" # cadena de caracteres o string"
   ]
  },
  {
   "cell_type": "code",
   "execution_count": 25,
   "metadata": {},
   "outputs": [
    {
     "data": {
      "text/plain": [
       "'daysi'"
      ]
     },
     "execution_count": 25,
     "metadata": {},
     "output_type": "execute_result"
    }
   ],
   "source": [
    "name"
   ]
  },
  {
   "cell_type": "code",
   "execution_count": 26,
   "metadata": {},
   "outputs": [],
   "source": [
    "ln=\"segundo\" # mala practica\n",
    "last_name =\"primera\" # importante que tenga el guion y que sea con mayusculas"
   ]
  },
  {
   "cell_type": "code",
   "execution_count": 13,
   "metadata": {},
   "outputs": [],
   "source": [
    "# aplicacion de variables\n",
    "number_1 = 11\n",
    "number_2 = 22\n",
    "\n",
    "# operaciones\n",
    "sum =  number_1 + number_2\n",
    "substract = number_1 - number_2\n",
    "multiplicity = number_1 * number_2\n",
    "div = number_1 / number_2\n"
   ]
  },
  {
   "cell_type": "code",
   "execution_count": 14,
   "metadata": {},
   "outputs": [
    {
     "name": "stdout",
     "output_type": "stream",
     "text": [
      "33\n",
      "-11\n",
      "242\n",
      "0.5\n"
     ]
    }
   ],
   "source": [
    "#resultados\n",
    "print(sum)\n",
    "print(substract)\n",
    "print(multiplicity)\n",
    "print(div)"
   ]
  },
  {
   "cell_type": "code",
   "execution_count": 19,
   "metadata": {},
   "outputs": [
    {
     "name": "stdout",
     "output_type": "stream",
     "text": [
      "resultado de la suma es: 33\n",
      "resultado de la resta es -11\n",
      "resultado de la multiplicacion es 242\n",
      "resultado de la division es 0.5\n"
     ]
    }
   ],
   "source": [
    "#resultados\n",
    "print(\"resultado de la suma es:\", sum)\n",
    "print(f\"resultado de la resta es {substract}\")\n",
    "print(f\"resultado de la multiplicacion es {multiplicity}\")\n",
    "print(f\"resultado de la division es {div}\")"
   ]
  },
  {
   "cell_type": "code",
   "execution_count": 22,
   "metadata": {},
   "outputs": [
    {
     "name": "stdout",
     "output_type": "stream",
     "text": [
      "<class 'str'>\n",
      "<class 'int'>\n",
      "<class 'float'>\n"
     ]
    }
   ],
   "source": [
    "# tipos de datos en python\n",
    "last_name= \"435\"\n",
    "\n",
    "\n",
    "print(type(last_name))\n",
    "print(type(number_1))\n",
    "print(type(div))"
   ]
  },
  {
   "cell_type": "code",
   "execution_count": 28,
   "metadata": {},
   "outputs": [
    {
     "name": "stdout",
     "output_type": "stream",
     "text": [
      "resultado de la suma es: 8.0\n",
      "resultado de la resta es 2.0\n",
      "resultado de la multiplicacion es 15.0\n",
      "resultado de la division es 1.6666666666666667\n"
     ]
    }
   ],
   "source": [
    "# ingreso de datos por teclado\n",
    "number_1 = input(\"ingrese numer_1\")\n",
    "number_1 = float(number_1)\n",
    "\n",
    "number_2 = input(\"ingrese numer_2\")\n",
    "number_2 = float(number_2)\n",
    "\n",
    "# operaciones\n",
    "sum =  number_1 + number_2\n",
    "substract = number_1 - number_2\n",
    "multiplicity = number_1 * number_2\n",
    "div = number_1 / number_2\n",
    "\n",
    "print(\"resultado de la suma es:\", sum)\n",
    "print(f\"resultado de la resta es {substract}\")\n",
    "print(f\"resultado de la multiplicacion es {multiplicity}\")\n",
    "print(f\"resultado de la division es {div}\")\n"
   ]
  },
  {
   "cell_type": "code",
   "execution_count": 27,
   "metadata": {},
   "outputs": [
    {
     "name": "stdout",
     "output_type": "stream",
     "text": [
      "daysi\n"
     ]
    }
   ],
   "source": [
    "name_1 = input(\"nombre es: \")\n",
    "print(name_1)"
   ]
  },
  {
   "cell_type": "code",
   "execution_count": 46,
   "metadata": {},
   "outputs": [],
   "source": [
    "# listas\n",
    "#int\n",
    "#float\n",
    "#string\n",
    "#\n",
    "\n",
    "list_1 = [\"daysi\", \"fiore\", \"diana\", \"vic\", 46, 87, 28, 2.89, 67.8]"
   ]
  },
  {
   "cell_type": "code",
   "execution_count": 45,
   "metadata": {},
   "outputs": [
    {
     "data": {
      "text/plain": [
       "['daysi', 'fiore', 'diana', 'vic', 46, 87, 28, 2.89]"
      ]
     },
     "execution_count": 45,
     "metadata": {},
     "output_type": "execute_result"
    }
   ],
   "source": [
    "list_1"
   ]
  },
  {
   "cell_type": "code",
   "execution_count": 43,
   "metadata": {},
   "outputs": [],
   "source": [
    "# [start:stop]\n",
    "\n",
    "names_list = list_1[0:4]"
   ]
  },
  {
   "cell_type": "code",
   "execution_count": 58,
   "metadata": {},
   "outputs": [],
   "source": [
    "integers_list = list_1[4:7]"
   ]
  },
  {
   "cell_type": "code",
   "execution_count": 51,
   "metadata": {},
   "outputs": [],
   "source": [
    "float_list = list_1[-2:]"
   ]
  },
  {
   "cell_type": "code",
   "execution_count": 54,
   "metadata": {},
   "outputs": [],
   "source": [
    "# metodos de listas\n",
    "\n",
    "float_list.append(55.5)"
   ]
  },
  {
   "cell_type": "code",
   "execution_count": 55,
   "metadata": {},
   "outputs": [
    {
     "data": {
      "text/plain": [
       "[2.89, 67.8, 55.5]"
      ]
     },
     "execution_count": 55,
     "metadata": {},
     "output_type": "execute_result"
    }
   ],
   "source": [
    "float_list"
   ]
  },
  {
   "cell_type": "code",
   "execution_count": 59,
   "metadata": {},
   "outputs": [
    {
     "data": {
      "text/plain": [
       "[46, 87, 28]"
      ]
     },
     "execution_count": 59,
     "metadata": {},
     "output_type": "execute_result"
    }
   ],
   "source": [
    "integers_list"
   ]
  },
  {
   "cell_type": "code",
   "execution_count": 61,
   "metadata": {},
   "outputs": [],
   "source": [
    "# clear: borra los elementos de la lista \n",
    "\n",
    "integers_list.clear()"
   ]
  },
  {
   "cell_type": "code",
   "execution_count": 65,
   "metadata": {},
   "outputs": [],
   "source": [
    "# copy: copia la lista original\n",
    "names_list_2 = names_list.copy()"
   ]
  },
  {
   "cell_type": "code",
   "execution_count": 66,
   "metadata": {},
   "outputs": [
    {
     "data": {
      "text/plain": [
       "['daysi', 'fiore', 'diana', 'vic']"
      ]
     },
     "execution_count": 66,
     "metadata": {},
     "output_type": "execute_result"
    }
   ],
   "source": [
    "names_list_2"
   ]
  },
  {
   "cell_type": "code",
   "execution_count": 67,
   "metadata": {},
   "outputs": [
    {
     "data": {
      "text/plain": [
       "['daysi', 'fiore', 'diana', 'vic']"
      ]
     },
     "execution_count": 67,
     "metadata": {},
     "output_type": "execute_result"
    }
   ],
   "source": [
    "names_list"
   ]
  },
  {
   "cell_type": "code",
   "execution_count": 68,
   "metadata": {},
   "outputs": [
    {
     "data": {
      "text/plain": [
       "4"
      ]
     },
     "execution_count": 68,
     "metadata": {},
     "output_type": "execute_result"
    }
   ],
   "source": [
    "# len: cantidad de articulos en la lista\n",
    "\n",
    "len(names_list)"
   ]
  },
  {
   "cell_type": "markdown",
   "metadata": {},
   "source": [
    "### condicionales"
   ]
  },
  {
   "cell_type": "code",
   "execution_count": null,
   "metadata": {},
   "outputs": [],
   "source": [
    "# sintaxis de un condicional simple\n",
    "# if condicion:\n",
    "    # operacion\n",
    "# condicion\n",
    "\n",
    "# mayor que >\n",
    "\n",
    "# menor que <\n",
    "\n",
    "# mayor igual >=\n",
    "\n",
    "# menor igual <=\n",
    "\n",
    "# diferente != \n",
    "\n",
    "# igual? =="
   ]
  },
  {
   "cell_type": "code",
   "execution_count": 74,
   "metadata": {},
   "outputs": [
    {
     "name": "stdout",
     "output_type": "stream",
     "text": [
      "no es lunes\n"
     ]
    }
   ],
   "source": [
    "day = input('dia de la semana: ')\n",
    "if (day == 'lunes'):\n",
    "    print('hoy lunes voy a clases')\n",
    "else:\n",
    "    print('no es lunes')"
   ]
  },
  {
   "cell_type": "code",
   "execution_count": 82,
   "metadata": {},
   "outputs": [
    {
     "name": "stdout",
     "output_type": "stream",
     "text": [
      "voy al cine 2x1\n"
     ]
    }
   ],
   "source": [
    "# operadores logicos\n",
    "# and y or\n",
    "\n",
    "day = input('dia de la semana: ')\n",
    "momento_day = input('ingrese momento de dia: ')\n",
    "\n",
    "if (day == 'lunes') and (momento_day == 'noche'):\n",
    "    print('voy al cine 2x1')\n",
    "\n",
    "else:\n",
    "    print('no es lunes')"
   ]
  },
  {
   "cell_type": "code",
   "execution_count": 81,
   "metadata": {},
   "outputs": [
    {
     "name": "stdout",
     "output_type": "stream",
     "text": [
      "veo netflix\n"
     ]
    }
   ],
   "source": [
    "# operadores logicos\n",
    "# and y or\n",
    "\n",
    "day = input('dia de la semana: ')\n",
    "momento_day = input('ingrese momento de dia: ')\n",
    "\n",
    "if (day == 'lunes') or (momento_day == 'noche'):\n",
    "    print('veo netflix')\n",
    "\n",
    "else:\n",
    "    print('no es lunes')"
   ]
  },
  {
   "cell_type": "markdown",
   "metadata": {},
   "source": [
    "-tuplas\n",
    "-diccionarios"
   ]
  },
  {
   "cell_type": "code",
   "execution_count": 10,
   "metadata": {},
   "outputs": [],
   "source": [
    "#tuplas\n",
    "\n",
    "tupla_1=(1,2,3,4,5)\n",
    "tupla_2 = ('a', 'b', 'c', 'd', 'e')"
   ]
  },
  {
   "cell_type": "code",
   "execution_count": 9,
   "metadata": {},
   "outputs": [
    {
     "data": {
      "text/plain": [
       "3"
      ]
     },
     "execution_count": 9,
     "metadata": {},
     "output_type": "execute_result"
    }
   ],
   "source": [
    "tupla_1=(1,2,3,4,5)\n",
    "tupla_1[2]"
   ]
  },
  {
   "cell_type": "code",
   "execution_count": 14,
   "metadata": {},
   "outputs": [],
   "source": [
    "#diccionario\n",
    "\n",
    "dic_1 = {\n",
    "    'luis': 1234,\n",
    "    'pedro': 5678,\n",
    "    'juan': 9012\n",
    "}"
   ]
  },
  {
   "cell_type": "code",
   "execution_count": 15,
   "metadata": {},
   "outputs": [
    {
     "name": "stdout",
     "output_type": "stream",
     "text": [
      "1234\n"
     ]
    }
   ],
   "source": [
    "dic_1['luis']\n",
    "print (dic_1['luis'])"
   ]
  },
  {
   "cell_type": "code",
   "execution_count": 16,
   "metadata": {},
   "outputs": [],
   "source": [
    "dic_2 = {\n",
    "    'frutas': ['manzanas', 'peras', 'fresa'],\n",
    "    'numeros': [4, 8, 46],\n",
    "    'pesos': [1.5, 6, 3.4],\n",
    "}"
   ]
  },
  {
   "cell_type": "code",
   "execution_count": 17,
   "metadata": {},
   "outputs": [
    {
     "data": {
      "text/plain": [
       "[1.5, 6, 3.4]"
      ]
     },
     "execution_count": 17,
     "metadata": {},
     "output_type": "execute_result"
    }
   ],
   "source": [
    "dic_2['pesos']"
   ]
  },
  {
   "cell_type": "code",
   "execution_count": 19,
   "metadata": {},
   "outputs": [
    {
     "name": "stdout",
     "output_type": "stream",
     "text": [
      "1\n",
      "2\n",
      "3\n"
     ]
    }
   ],
   "source": [
    "#ciclos finitos \"for\"\n",
    "#sintaxis\n",
    "#for variable in secuencia:\n",
    "#  cuerpo del ciclo\n",
    "#la variabble toma los valores de la secuencia en orden\n",
    "#secuencia: cadena, lista, tupla, conjunto\n",
    "\n",
    "for number in [1, 2, 3]:\n",
    "    print(number)"
   ]
  },
  {
   "cell_type": "code",
   "execution_count": 23,
   "metadata": {},
   "outputs": [
    {
     "name": "stdout",
     "output_type": "stream",
     "text": [
      "daysi\n",
      "fiore\n",
      "diana\n",
      "vic\n"
     ]
    }
   ],
   "source": [
    "names_lista = [\"daysi\", \"fiore\", \"diana\", \"vic\"]\n",
    "\n",
    "for name in names_lista:\n",
    "    print(name)\n",
    "     "
   ]
  },
  {
   "cell_type": "code",
   "execution_count": 30,
   "metadata": {},
   "outputs": [
    {
     "name": "stdout",
     "output_type": "stream",
     "text": [
      "daysi\n",
      "fiore\n",
      "diana\n",
      "vic\n"
     ]
    }
   ],
   "source": [
    "for j in names_lista:\n",
    "    print(j)"
   ]
  },
  {
   "cell_type": "code",
   "execution_count": 28,
   "metadata": {},
   "outputs": [
    {
     "name": "stdout",
     "output_type": "stream",
     "text": [
      "no hay papa\n"
     ]
    }
   ],
   "source": [
    "if name == 'jose':\n",
    "    print(papa)\n",
    "\n",
    "else:\n",
    "    print('no hay papa')"
   ]
  },
  {
   "cell_type": "code",
   "execution_count": 35,
   "metadata": {},
   "outputs": [
    {
     "name": "stdout",
     "output_type": "stream",
     "text": [
      " \"daysi\" es un perro\n",
      " \"fiore\" no es un perro\n",
      " \"diana\" no es un perro\n",
      " \"vic\" no es un perro\n"
     ]
    }
   ],
   "source": [
    "for name in names_lista:\n",
    "    if name == 'daysi':\n",
    "        print (f' \"{name}\" es un perro')\n",
    "    else:\n",
    "        print(f' \"{name}\" no es un perro')"
   ]
  },
  {
   "cell_type": "markdown",
   "metadata": {},
   "source": [
    "####Funciones"
   ]
  },
  {
   "cell_type": "code",
   "execution_count": null,
   "metadata": {},
   "outputs": [],
   "source": [
    "#sintaxis de una funcion en python\n",
    "\n",
    "#def name_function(parameters):\n",
    "# \"\"\"\"\n",
    "# documentacion de la funcion de parameter\n",
    "#\"\"\"\"\n",
    "#codigo de la funcion \n",
    "#pass"
   ]
  },
  {
   "cell_type": "code",
   "execution_count": 37,
   "metadata": {},
   "outputs": [],
   "source": [
    "#funcion para sumar dos numeros\n",
    "\n",
    "def suma_dos(number_1, number_2):\n",
    "    \"\"\"\n",
    "    Esta funcion suma dos numeros enteros\n",
    "    number_1: int\n",
    "    number_2: int\n",
    "    return: int\n",
    "    \"\"\"\n",
    "    result = number_1 + number_2\n",
    "    return result"
   ]
  },
  {
   "cell_type": "code",
   "execution_count": 39,
   "metadata": {},
   "outputs": [
    {
     "data": {
      "text/plain": [
       "23"
      ]
     },
     "execution_count": 39,
     "metadata": {},
     "output_type": "execute_result"
    }
   ],
   "source": [
    "suma_dos(11, 12)"
   ]
  },
  {
   "cell_type": "code",
   "execution_count": 40,
   "metadata": {},
   "outputs": [],
   "source": [
    "#funcion que reste dos numeros\n",
    "def resta_dos (number_1, number_2):   \n",
    "    \"\"\"\n",
    "    Esta funcion resta dos numeros enteros\n",
    "    number_1: int\n",
    "    number_2: int\n",
    "    return: int\n",
    "    \"\"\"\n",
    "    result = number_1 - number_2\n",
    "    return result"
   ]
  },
  {
   "cell_type": "code",
   "execution_count": 43,
   "metadata": {},
   "outputs": [
    {
     "data": {
      "text/plain": [
       "3"
      ]
     },
     "execution_count": 43,
     "metadata": {},
     "output_type": "execute_result"
    }
   ],
   "source": [
    "resta_dos(23, 20)"
   ]
  },
  {
   "cell_type": "code",
   "execution_count": 44,
   "metadata": {},
   "outputs": [
    {
     "data": {
      "text/plain": [
       "3"
      ]
     },
     "execution_count": 44,
     "metadata": {},
     "output_type": "execute_result"
    }
   ],
   "source": [
    "resta_dos(number_2=20, number_1=23)"
   ]
  }
 ],
 "metadata": {
  "kernelspec": {
   "display_name": "Python 3",
   "language": "python",
   "name": "python3"
  },
  "language_info": {
   "codemirror_mode": {
    "name": "ipython",
    "version": 3
   },
   "file_extension": ".py",
   "mimetype": "text/x-python",
   "name": "python",
   "nbconvert_exporter": "python",
   "pygments_lexer": "ipython3",
   "version": "3.12.4"
  }
 },
 "nbformat": 4,
 "nbformat_minor": 2
}
