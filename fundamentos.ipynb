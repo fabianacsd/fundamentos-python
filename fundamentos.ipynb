{
 "cells": [
  {
   "cell_type": "code",
   "execution_count": 23,
   "metadata": {},
   "outputs": [
    {
     "name": "stdout",
     "output_type": "stream",
     "text": [
      "mano tengo fe!\n"
     ]
    }
   ],
   "source": [
    "print(\"mano tengo fe!\")"
   ]
  },
  {
   "cell_type": "markdown",
   "metadata": {},
   "source": [
    "###clases de python\n",
    "\n",
    "*variables\n",
    "*operadores matematicos\n",
    "*operadores de comparacion\n",
    "*operadores logicos\n",
    "*condicionales\n",
    "\n",
    "#variable \n"
   ]
  },
  {
   "cell_type": "code",
   "execution_count": 24,
   "metadata": {},
   "outputs": [],
   "source": [
    "#comentari\n",
    "\n",
    "name=\"daysi\" # cadena de caracteres o string"
   ]
  },
  {
   "cell_type": "code",
   "execution_count": 25,
   "metadata": {},
   "outputs": [
    {
     "data": {
      "text/plain": [
       "'daysi'"
      ]
     },
     "execution_count": 25,
     "metadata": {},
     "output_type": "execute_result"
    }
   ],
   "source": [
    "name"
   ]
  },
  {
   "cell_type": "code",
   "execution_count": 26,
   "metadata": {},
   "outputs": [],
   "source": [
    "ln=\"segundo\" # mala practica\n",
    "last_name =\"primera\" # importante que tenga el guion y que sea con mayusculas"
   ]
  },
  {
   "cell_type": "code",
   "execution_count": 13,
   "metadata": {},
   "outputs": [],
   "source": [
    "# aplicacion de variables\n",
    "number_1 = 11\n",
    "number_2 = 22\n",
    "\n",
    "# operaciones\n",
    "sum =  number_1 + number_2\n",
    "substract = number_1 - number_2\n",
    "multiplicity = number_1 * number_2\n",
    "div = number_1 / number_2\n"
   ]
  },
  {
   "cell_type": "code",
   "execution_count": 14,
   "metadata": {},
   "outputs": [
    {
     "name": "stdout",
     "output_type": "stream",
     "text": [
      "33\n",
      "-11\n",
      "242\n",
      "0.5\n"
     ]
    }
   ],
   "source": [
    "#resultados\n",
    "print(sum)\n",
    "print(substract)\n",
    "print(multiplicity)\n",
    "print(div)"
   ]
  },
  {
   "cell_type": "code",
   "execution_count": 19,
   "metadata": {},
   "outputs": [
    {
     "name": "stdout",
     "output_type": "stream",
     "text": [
      "resultado de la suma es: 33\n",
      "resultado de la resta es -11\n",
      "resultado de la multiplicacion es 242\n",
      "resultado de la division es 0.5\n"
     ]
    }
   ],
   "source": [
    "#resultados\n",
    "print(\"resultado de la suma es:\", sum)\n",
    "print(f\"resultado de la resta es {substract}\")\n",
    "print(f\"resultado de la multiplicacion es {multiplicity}\")\n",
    "print(f\"resultado de la division es {div}\")"
   ]
  },
  {
   "cell_type": "code",
   "execution_count": 22,
   "metadata": {},
   "outputs": [
    {
     "name": "stdout",
     "output_type": "stream",
     "text": [
      "<class 'str'>\n",
      "<class 'int'>\n",
      "<class 'float'>\n"
     ]
    }
   ],
   "source": [
    "# tipos de datos en python\n",
    "last_name= \"435\"\n",
    "\n",
    "\n",
    "print(type(last_name))\n",
    "print(type(number_1))\n",
    "print(type(div))"
   ]
  },
  {
   "cell_type": "code",
   "execution_count": 28,
   "metadata": {},
   "outputs": [
    {
     "name": "stdout",
     "output_type": "stream",
     "text": [
      "resultado de la suma es: 8.0\n",
      "resultado de la resta es 2.0\n",
      "resultado de la multiplicacion es 15.0\n",
      "resultado de la division es 1.6666666666666667\n"
     ]
    }
   ],
   "source": [
    "# ingreso de datos por teclado\n",
    "number_1 = input(\"ingrese numer_1\")\n",
    "number_1 = float(number_1)\n",
    "\n",
    "number_2 = input(\"ingrese numer_2\")\n",
    "number_2 = float(number_2)\n",
    "\n",
    "# operaciones\n",
    "sum =  number_1 + number_2\n",
    "substract = number_1 - number_2\n",
    "multiplicity = number_1 * number_2\n",
    "div = number_1 / number_2\n",
    "\n",
    "print(\"resultado de la suma es:\", sum)\n",
    "print(f\"resultado de la resta es {substract}\")\n",
    "print(f\"resultado de la multiplicacion es {multiplicity}\")\n",
    "print(f\"resultado de la division es {div}\")\n"
   ]
  },
  {
   "cell_type": "code",
   "execution_count": 27,
   "metadata": {},
   "outputs": [
    {
     "name": "stdout",
     "output_type": "stream",
     "text": [
      "daysi\n"
     ]
    }
   ],
   "source": [
    "name_1 = input(\"nombre es: \")\n",
    "print(name_1)"
   ]
  }
 ],
 "metadata": {
  "kernelspec": {
   "display_name": "Python 3",
   "language": "python",
   "name": "python3"
  },
  "language_info": {
   "codemirror_mode": {
    "name": "ipython",
    "version": 3
   },
   "file_extension": ".py",
   "mimetype": "text/x-python",
   "name": "python",
   "nbconvert_exporter": "python",
   "pygments_lexer": "ipython3",
   "version": "3.12.4"
  }
 },
 "nbformat": 4,
 "nbformat_minor": 2
}
